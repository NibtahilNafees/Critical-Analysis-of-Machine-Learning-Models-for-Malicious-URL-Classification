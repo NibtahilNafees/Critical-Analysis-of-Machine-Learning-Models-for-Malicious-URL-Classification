{
 "cells": [
  {
   "cell_type": "code",
   "execution_count": 14,
   "metadata": {},
   "outputs": [],
   "source": [
    "import re \n",
    "import tldextract\n",
    "import pandas as pd \n",
    "from urllib.parse import urlparse\n",
    "from imblearn.over_sampling import SMOTE\n",
    "from sklearn.preprocessing import LabelEncoder"
   ]
  },
  {
   "cell_type": "code",
   "execution_count": 13,
   "metadata": {},
   "outputs": [
    {
     "data": {
      "application/vnd.microsoft.datawrangler.viewer.v0+json": {
       "columns": [
        {
         "name": "index",
         "rawType": "int64",
         "type": "integer"
        },
        {
         "name": "url",
         "rawType": "object",
         "type": "string"
        },
        {
         "name": "type",
         "rawType": "object",
         "type": "string"
        }
       ],
       "conversionMethod": "pd.DataFrame",
       "ref": "3f0b2fd0-82f4-4ede-a84f-62a712df1b50",
       "rows": [
        [
         "0",
         "br-icloud.com.br",
         "phishing"
        ],
        [
         "1",
         "mp3raid.com/music/krizz_kaliko.html",
         "benign"
        ],
        [
         "2",
         "bopsecrets.org/rexroth/cr/1.htm",
         "benign"
        ],
        [
         "3",
         "http://www.garage-pirenne.be/index.php?option=com_content&view=article&id=70&vsig70_0=15",
         "defacement"
        ],
        [
         "4",
         "http://adventure-nicaragua.net/index.php?option=com_mailto&tmpl=component&link=aHR0cDovL2FkdmVudHVyZS1uaWNhcmFndWEubmV0L2luZGV4LnBocD9vcHRpb249Y29tX2NvbnRlbnQmdmlldz1hcnRpY2xlJmlkPTQ3OmFib3V0JmNhdGlkPTM2OmRlbW8tYXJ0aWNsZXMmSXRlbWlkPTU0",
         "defacement"
        ],
        [
         "5",
         "http://buzzfil.net/m/show-art/ils-etaient-loin-de-s-imaginer-que-le-hibou-allait-faire-ceci-quand-ils-filmaient-2.html",
         "benign"
        ],
        [
         "6",
         "espn.go.com/nba/player/_/id/3457/brandon-rush",
         "benign"
        ],
        [
         "7",
         "yourbittorrent.com/?q=anthony-hamilton-soulife",
         "benign"
        ],
        [
         "8",
         "http://www.pashminaonline.com/pure-pashminas",
         "defacement"
        ],
        [
         "9",
         "allmusic.com/album/crazy-from-the-heat-r16990",
         "benign"
        ],
        [
         "10",
         "corporationwiki.com/Ohio/Columbus/frank-s-benson-P3333917.aspx",
         "benign"
        ],
        [
         "11",
         "http://www.ikenmijnkunst.nl/index.php/exposities/exposities-2006",
         "defacement"
        ],
        [
         "12",
         "myspace.com/video/vid/30602581",
         "benign"
        ],
        [
         "13",
         "http://www.lebensmittel-ueberwachung.de/index.php/aktuelles.1",
         "defacement"
        ],
        [
         "14",
         "http://www.szabadmunkaero.hu/cimoldal.html?start=12",
         "defacement"
        ],
        [
         "15",
         "http://larcadelcarnevale.com/catalogo/palloncini",
         "defacement"
        ],
        [
         "16",
         "quickfacts.census.gov/qfd/maps/iowa_map.html",
         "benign"
        ],
        [
         "17",
         "nugget.ca/ArticleDisplay.aspx?archive=true&e=1160966",
         "benign"
        ],
        [
         "18",
         "uk.linkedin.com/pub/steve-rubenstein/8/718/755",
         "benign"
        ],
        [
         "19",
         "http://www.vnic.co/khach-hang.html",
         "defacement"
        ],
        [
         "20",
         "baseball-reference.com/players/h/harrige01.shtml",
         "benign"
        ],
        [
         "21",
         "signin.eby.de.zukruygxctzmmqi.civpro.co.za",
         "phishing"
        ],
        [
         "22",
         "192.com/atoz/people/oakley/patrick/",
         "benign"
        ],
        [
         "23",
         "nytimes.com/1998/03/29/style/cuttings-oh-that-brazen-raucous-glorious-hibiscus.html",
         "benign"
        ],
        [
         "24",
         "escholarship.org/uc/item/5xt4952c",
         "benign"
        ],
        [
         "25",
         "songfacts.com/detail.php?id=13410",
         "benign"
        ],
        [
         "26",
         "casamanana.org/education/blba/",
         "benign"
        ],
        [
         "27",
         "http://hollywoodlife.com/2014/05/01/rihanna-iheartradio-music-awards-dress-2014-pics/",
         "benign"
        ],
        [
         "28",
         "http://www.marketingbyinternet.com/mo/e56508df639f6ce7d55c81ee3fcd5ba8/",
         "phishing"
        ],
        [
         "29",
         "en.wikipedia.org/wiki/North_Dakota",
         "benign"
        ],
        [
         "30",
         "soaps.sheknows.com/daysofourlives/news/id/20259/Days_Of_Our_Lives_Casts_Ruta_Lee/",
         "benign"
        ],
        [
         "31",
         "perfectpeople.net/celebrity-star/6920/gidget-gein.htm",
         "benign"
        ],
        [
         "32",
         "media.caltech.edu/press_releases/13186",
         "benign"
        ],
        [
         "33",
         "wikiobits.com/Obits/TonyProudfoot",
         "benign"
        ],
        [
         "34",
         "vanderbilt.rivals.com/viewcoach.asp?coach=2079&sport=1&year=2011",
         "benign"
        ],
        [
         "35",
         "http://peluqueriadeautor.com/index.php?option=com_virtuemart&page=shop.browse&category_id=31&Itemid=70",
         "defacement"
        ],
        [
         "36",
         "movies.yahoo.com/shop?d=hv&cf=info&id=1800340831",
         "benign"
        ],
        [
         "37",
         "cyndislist.com/us/pa/counties",
         "benign"
        ],
        [
         "38",
         "http://www.824555.com/app/member/SportOption.php?uid=guest&langx=gb",
         "malware"
        ],
        [
         "39",
         "http://www.raci.it/component/user/reset.html",
         "defacement"
        ],
        [
         "40",
         "https://docs.google.com/spreadsheet/viewform?formkey=dGg2Z1lCUHlSdjllTVNRUW50TFIzSkE6MQ",
         "phishing"
        ],
        [
         "41",
         "psychology.wikia.com/wiki/Phonemes",
         "benign"
        ],
        [
         "42",
         "info.centriq.com/content/fivereasons",
         "benign"
        ],
        [
         "43",
         "articles.baltimoresun.com/1991-06-11/sports/1991162162_1_james-koehler-texas-rangers-terrell-lowery",
         "benign"
        ],
        [
         "44",
         "infinitysw.com/",
         "benign"
        ],
        [
         "45",
         "strawberrycreekgardens.com/",
         "benign"
        ],
        [
         "46",
         "http://earth-sure.com/industrial-tech/everlast-impact-resistant-dumpster-enclosure",
         "defacement"
        ],
        [
         "47",
         "spoke.com/dir/p/desantis/nick",
         "benign"
        ],
        [
         "48",
         "wordsmith.org/words/pignus.html",
         "benign"
        ],
        [
         "49",
         "http://interpark.com/displaycorner/FreeMarket.do?_method=itemCateList&free1=pc&free2=007001008003&free3=item&disp_no=007001008003",
         "benign"
        ]
       ],
       "shape": {
        "columns": 2,
        "rows": 651191
       }
      },
      "text/html": [
       "<div>\n",
       "<style scoped>\n",
       "    .dataframe tbody tr th:only-of-type {\n",
       "        vertical-align: middle;\n",
       "    }\n",
       "\n",
       "    .dataframe tbody tr th {\n",
       "        vertical-align: top;\n",
       "    }\n",
       "\n",
       "    .dataframe thead th {\n",
       "        text-align: right;\n",
       "    }\n",
       "</style>\n",
       "<table border=\"1\" class=\"dataframe\">\n",
       "  <thead>\n",
       "    <tr style=\"text-align: right;\">\n",
       "      <th></th>\n",
       "      <th>url</th>\n",
       "      <th>type</th>\n",
       "    </tr>\n",
       "  </thead>\n",
       "  <tbody>\n",
       "    <tr>\n",
       "      <th>0</th>\n",
       "      <td>br-icloud.com.br</td>\n",
       "      <td>phishing</td>\n",
       "    </tr>\n",
       "    <tr>\n",
       "      <th>1</th>\n",
       "      <td>mp3raid.com/music/krizz_kaliko.html</td>\n",
       "      <td>benign</td>\n",
       "    </tr>\n",
       "    <tr>\n",
       "      <th>2</th>\n",
       "      <td>bopsecrets.org/rexroth/cr/1.htm</td>\n",
       "      <td>benign</td>\n",
       "    </tr>\n",
       "    <tr>\n",
       "      <th>3</th>\n",
       "      <td>http://www.garage-pirenne.be/index.php?option=...</td>\n",
       "      <td>defacement</td>\n",
       "    </tr>\n",
       "    <tr>\n",
       "      <th>4</th>\n",
       "      <td>http://adventure-nicaragua.net/index.php?optio...</td>\n",
       "      <td>defacement</td>\n",
       "    </tr>\n",
       "    <tr>\n",
       "      <th>...</th>\n",
       "      <td>...</td>\n",
       "      <td>...</td>\n",
       "    </tr>\n",
       "    <tr>\n",
       "      <th>651186</th>\n",
       "      <td>xbox360.ign.com/objects/850/850402.html</td>\n",
       "      <td>phishing</td>\n",
       "    </tr>\n",
       "    <tr>\n",
       "      <th>651187</th>\n",
       "      <td>games.teamxbox.com/xbox-360/1860/Dead-Space/</td>\n",
       "      <td>phishing</td>\n",
       "    </tr>\n",
       "    <tr>\n",
       "      <th>651188</th>\n",
       "      <td>www.gamespot.com/xbox360/action/deadspace/</td>\n",
       "      <td>phishing</td>\n",
       "    </tr>\n",
       "    <tr>\n",
       "      <th>651189</th>\n",
       "      <td>en.wikipedia.org/wiki/Dead_Space_(video_game)</td>\n",
       "      <td>phishing</td>\n",
       "    </tr>\n",
       "    <tr>\n",
       "      <th>651190</th>\n",
       "      <td>www.angelfire.com/goth/devilmaycrytonite/</td>\n",
       "      <td>phishing</td>\n",
       "    </tr>\n",
       "  </tbody>\n",
       "</table>\n",
       "<p>651191 rows × 2 columns</p>\n",
       "</div>"
      ],
      "text/plain": [
       "                                                      url        type\n",
       "0                                        br-icloud.com.br    phishing\n",
       "1                     mp3raid.com/music/krizz_kaliko.html      benign\n",
       "2                         bopsecrets.org/rexroth/cr/1.htm      benign\n",
       "3       http://www.garage-pirenne.be/index.php?option=...  defacement\n",
       "4       http://adventure-nicaragua.net/index.php?optio...  defacement\n",
       "...                                                   ...         ...\n",
       "651186            xbox360.ign.com/objects/850/850402.html    phishing\n",
       "651187       games.teamxbox.com/xbox-360/1860/Dead-Space/    phishing\n",
       "651188         www.gamespot.com/xbox360/action/deadspace/    phishing\n",
       "651189      en.wikipedia.org/wiki/Dead_Space_(video_game)    phishing\n",
       "651190          www.angelfire.com/goth/devilmaycrytonite/    phishing\n",
       "\n",
       "[651191 rows x 2 columns]"
      ]
     },
     "execution_count": 13,
     "metadata": {},
     "output_type": "execute_result"
    }
   ],
   "source": [
    "main = pd.read_csv(\"malicious_phish.csv\")\n",
    "main"
   ]
  },
  {
   "cell_type": "code",
   "execution_count": 15,
   "metadata": {},
   "outputs": [
    {
     "data": {
      "application/vnd.microsoft.datawrangler.viewer.v0+json": {
       "columns": [
        {
         "name": "index",
         "rawType": "int64",
         "type": "integer"
        },
        {
         "name": "url",
         "rawType": "object",
         "type": "string"
        },
        {
         "name": "type",
         "rawType": "object",
         "type": "string"
        }
       ],
       "conversionMethod": "pd.DataFrame",
       "ref": "51d1eec5-edec-4a26-b725-0ff20d839092",
       "rows": [
        [
         "0",
         "http://1337x.to/torrent/1048648/American-Sniper-2014-MD-iTALiAN-DVDSCR-X264-BST-MT/",
         "benign"
        ],
        [
         "1",
         "http://1337x.to/torrent/1110018/Blackhat-2015-RUSSIAN-720p-WEB-DL-DD5-1-H264-RUFGT/",
         "benign"
        ],
        [
         "2",
         "http://1337x.to/torrent/1122940/Blackhat-2015-x264-1080p-WEB-DL-eng-nl-subs-sharky/",
         "benign"
        ],
        [
         "3",
         "http://1337x.to/torrent/1124395/Fast-and-Furious-7-2015-HD-TS-XVID-AC3-HQ-Hive-CM8/",
         "benign"
        ],
        [
         "4",
         "http://1337x.to/torrent/1145504/Avengers-Age-of-Ultron-2015-CAM-New-Audio-x264-CPG/",
         "benign"
        ]
       ],
       "shape": {
        "columns": 2,
        "rows": 5
       }
      },
      "text/html": [
       "<div>\n",
       "<style scoped>\n",
       "    .dataframe tbody tr th:only-of-type {\n",
       "        vertical-align: middle;\n",
       "    }\n",
       "\n",
       "    .dataframe tbody tr th {\n",
       "        vertical-align: top;\n",
       "    }\n",
       "\n",
       "    .dataframe thead th {\n",
       "        text-align: right;\n",
       "    }\n",
       "</style>\n",
       "<table border=\"1\" class=\"dataframe\">\n",
       "  <thead>\n",
       "    <tr style=\"text-align: right;\">\n",
       "      <th></th>\n",
       "      <th>url</th>\n",
       "      <th>type</th>\n",
       "    </tr>\n",
       "  </thead>\n",
       "  <tbody>\n",
       "    <tr>\n",
       "      <th>0</th>\n",
       "      <td>http://1337x.to/torrent/1048648/American-Snipe...</td>\n",
       "      <td>benign</td>\n",
       "    </tr>\n",
       "    <tr>\n",
       "      <th>1</th>\n",
       "      <td>http://1337x.to/torrent/1110018/Blackhat-2015-...</td>\n",
       "      <td>benign</td>\n",
       "    </tr>\n",
       "    <tr>\n",
       "      <th>2</th>\n",
       "      <td>http://1337x.to/torrent/1122940/Blackhat-2015-...</td>\n",
       "      <td>benign</td>\n",
       "    </tr>\n",
       "    <tr>\n",
       "      <th>3</th>\n",
       "      <td>http://1337x.to/torrent/1124395/Fast-and-Furio...</td>\n",
       "      <td>benign</td>\n",
       "    </tr>\n",
       "    <tr>\n",
       "      <th>4</th>\n",
       "      <td>http://1337x.to/torrent/1145504/Avengers-Age-o...</td>\n",
       "      <td>benign</td>\n",
       "    </tr>\n",
       "  </tbody>\n",
       "</table>\n",
       "</div>"
      ],
      "text/plain": [
       "                                                 url    type\n",
       "0  http://1337x.to/torrent/1048648/American-Snipe...  benign\n",
       "1  http://1337x.to/torrent/1110018/Blackhat-2015-...  benign\n",
       "2  http://1337x.to/torrent/1122940/Blackhat-2015-...  benign\n",
       "3  http://1337x.to/torrent/1124395/Fast-and-Furio...  benign\n",
       "4  http://1337x.to/torrent/1145504/Avengers-Age-o...  benign"
      ]
     },
     "execution_count": 15,
     "metadata": {},
     "output_type": "execute_result"
    }
   ],
   "source": [
    "# Define a list of file paths and corresponding types\n",
    "file_paths = [\n",
    "    (\"FinalDataset/URL/Benign_list_big_final.csv\", \"benign\"),\n",
    "    (\"FinalDataset/URL/DefacementSitesURLFiltered.csv\", \"defacement\"),\n",
    "    (\"FinalDataset/URL/Malware_dataset.csv\", \"malware\"),\n",
    "    (\"FinalDataset/URL/phishing_dataset.csv\", \"phishing\"),\n",
    "    (\"FinalDataset/URL/spam_dataset.csv\", \"spam\")\n",
    "]\n",
    "\n",
    "# Initialize an empty list to store dataframes\n",
    "dfs = []\n",
    "\n",
    "# Iterate through the file paths and types\n",
    "for file_path, url_type in file_paths:\n",
    "    # Read the CSV file\n",
    "    df = pd.read_csv(file_path, header=None)\n",
    "    # Assign column names\n",
    "    df.columns = [\"url\"]\n",
    "    # Add a column for the URL type\n",
    "    df[\"type\"] = url_type\n",
    "    # Append the dataframe to the list\n",
    "    dfs.append(df)\n",
    "\n",
    "dfs.append(main)\n",
    "# Concatenate the list of dataframes into a single dataframe\n",
    "merged_df = pd.concat(dfs, ignore_index=True)\n",
    "merged_df.drop_duplicates(inplace=True)\n",
    "merged_df.reset_index(drop=True, inplace=True)\n",
    "\n",
    "\n",
    "df = merged_df\n",
    "# Display the merged dataframe\n",
    "merged_df.head()"
   ]
  },
  {
   "cell_type": "code",
   "execution_count": 16,
   "metadata": {},
   "outputs": [
    {
     "name": "stdout",
     "output_type": "stream",
     "text": [
      "<class 'pandas.core.frame.DataFrame'>\n",
      "RangeIndex: 653046 entries, 0 to 653045\n",
      "Data columns (total 2 columns):\n",
      " #   Column  Non-Null Count   Dtype \n",
      "---  ------  --------------   ----- \n",
      " 0   url     653046 non-null  object\n",
      " 1   type    653046 non-null  object\n",
      "dtypes: object(2)\n",
      "memory usage: 10.0+ MB\n",
      "None\n"
     ]
    },
    {
     "data": {
      "text/plain": [
       "type\n",
       "benign        428080\n",
       "defacement     95308\n",
       "phishing       94092\n",
       "malware        23645\n",
       "spam           11921\n",
       "Name: count, dtype: int64"
      ]
     },
     "execution_count": 16,
     "metadata": {},
     "output_type": "execute_result"
    }
   ],
   "source": [
    "print(df.info())\n",
    "merged_df.type.value_counts()"
   ]
  },
  {
   "cell_type": "markdown",
   "metadata": {},
   "source": [
    "## Preprocessing"
   ]
  },
  {
   "cell_type": "markdown",
   "metadata": {},
   "source": [
    "### Removing duplicates and missing rows"
   ]
  },
  {
   "cell_type": "code",
   "execution_count": 17,
   "metadata": {},
   "outputs": [
    {
     "name": "stdout",
     "output_type": "stream",
     "text": [
      "Number of rows before preprocessing : 653046\n",
      "Number of rows after preprocessing : 653040\n"
     ]
    }
   ],
   "source": [
    "print(f\"Number of rows before preprocessing : {merged_df.shape[0]}\")\n",
    "\n",
    "df.dropna(inplace=True)\n",
    "df.drop_duplicates(subset=['url'], inplace=True)\n",
    "\n",
    "print(f\"Number of rows after preprocessing : {merged_df.shape[0]}\")"
   ]
  },
  {
   "cell_type": "markdown",
   "metadata": {},
   "source": [
    "### Label Encoding"
   ]
  },
  {
   "cell_type": "code",
   "execution_count": 18,
   "metadata": {},
   "outputs": [],
   "source": [
    "label_encoder = LabelEncoder()\n",
    "df['type_encoded'] = label_encoder.fit_transform(df['type'])"
   ]
  },
  {
   "cell_type": "code",
   "execution_count": 20,
   "metadata": {},
   "outputs": [],
   "source": [
    "df.to_csv(\"merged_encoded_dataset.csv\", index=False)"
   ]
  },
  {
   "cell_type": "code",
   "execution_count": 32,
   "metadata": {},
   "outputs": [
    {
     "data": {
      "text/plain": [
       "type_encoded\n",
       "0    428080\n",
       "1     95308\n",
       "3     94086\n",
       "2     23645\n",
       "4     11921\n",
       "Name: count, dtype: int64"
      ]
     },
     "execution_count": 32,
     "metadata": {},
     "output_type": "execute_result"
    }
   ],
   "source": [
    "df.type_encoded.value_counts()"
   ]
  },
  {
   "cell_type": "markdown",
   "metadata": {},
   "source": [
    "### Feature Engineering"
   ]
  },
  {
   "cell_type": "code",
   "execution_count": 54,
   "metadata": {},
   "outputs": [],
   "source": [
    "def extract_features(url):\n",
    "    parsed_url = urlparse(url)\n",
    "    ext = tldextract.extract(url)\n",
    "    return {\n",
    "        'url_length': len(url),\n",
    "        'num_digits': sum(c.isdigit() for c in url),\n",
    "        'num_special_chars': len(re.findall(r'[^a-zA-Z0-9]', url)),\n",
    "        'num_subdomains': parsed_url.netloc.count('.') - 1,\n",
    "        'tld_length': len(ext.suffix),\n",
    "        'path_length': len(parsed_url.path),\n",
    "        'query_length': len(parsed_url.query),\n",
    "        'num_query_params': parsed_url.query.count('=')\n",
    "    }\n",
    "    \n",
    "    \n",
    "# Apply feature extraction\n",
    "df_features = df['url'].apply(lambda x: extract_features(x))\n",
    "df_features = pd.DataFrame(df_features.tolist())"
   ]
  },
  {
   "cell_type": "markdown",
   "metadata": {},
   "source": [
    "### Class Imbalance fixing"
   ]
  },
  {
   "cell_type": "code",
   "execution_count": 55,
   "metadata": {},
   "outputs": [
    {
     "name": "stdout",
     "output_type": "stream",
     "text": [
      "type_encoded\n",
      "0    428080\n",
      "1    428080\n",
      "2    428080\n",
      "3    428080\n",
      "4    428080\n",
      "Name: count, dtype: int64\n"
     ]
    }
   ],
   "source": [
    "X = df_features\n",
    "y = df['type_encoded']\n",
    "\n",
    "# Address class imbalance using SMOTE\n",
    "smote = SMOTE(sampling_strategy='auto', random_state=42)\n",
    "X_resampled, y_resampled = smote.fit_resample(X, y)\n",
    "\n",
    "# Convert back to DataFrame\n",
    "df_balanced = pd.DataFrame(X_resampled)\n",
    "df_balanced['type_encoded'] = y_resampled\n",
    "\n",
    "print(df_balanced['type_encoded'].value_counts())"
   ]
  },
  {
   "cell_type": "code",
   "execution_count": 42,
   "metadata": {},
   "outputs": [
    {
     "data": {
      "application/vnd.microsoft.datawrangler.viewer.v0+json": {
       "columns": [
        {
         "name": "index",
         "rawType": "int64",
         "type": "integer"
        },
        {
         "name": "url_length",
         "rawType": "int64",
         "type": "integer"
        },
        {
         "name": "num_digits",
         "rawType": "int64",
         "type": "integer"
        },
        {
         "name": "num_special_chars",
         "rawType": "int64",
         "type": "integer"
        },
        {
         "name": "num_subdomains",
         "rawType": "int64",
         "type": "integer"
        },
        {
         "name": "tld_length",
         "rawType": "int64",
         "type": "integer"
        },
        {
         "name": "path_length",
         "rawType": "int64",
         "type": "integer"
        },
        {
         "name": "query_length",
         "rawType": "int64",
         "type": "integer"
        },
        {
         "name": "num_query_params",
         "rawType": "int64",
         "type": "integer"
        },
        {
         "name": "type_encoded",
         "rawType": "int64",
         "type": "integer"
        }
       ],
       "conversionMethod": "pd.DataFrame",
       "ref": "caa6760a-ff45-4c4e-a599-c6ab816712d3",
       "rows": [
        [
         "0",
         "83",
         "18",
         "16",
         "0",
         "2",
         "68",
         "0",
         "0",
         "0"
        ],
        [
         "1",
         "83",
         "23",
         "17",
         "0",
         "2",
         "68",
         "0",
         "0",
         "0"
        ],
        [
         "2",
         "83",
         "22",
         "17",
         "0",
         "2",
         "68",
         "0",
         "0",
         "0"
        ],
        [
         "3",
         "83",
         "18",
         "19",
         "0",
         "2",
         "68",
         "0",
         "0",
         "0"
        ],
        [
         "4",
         "83",
         "18",
         "17",
         "0",
         "2",
         "68",
         "0",
         "0",
         "0"
        ],
        [
         "5",
         "83",
         "20",
         "17",
         "0",
         "2",
         "68",
         "0",
         "0",
         "0"
        ],
        [
         "6",
         "83",
         "15",
         "16",
         "0",
         "2",
         "68",
         "0",
         "0",
         "0"
        ],
        [
         "7",
         "83",
         "3",
         "13",
         "0",
         "2",
         "35",
         "34",
         "2",
         "0"
        ],
        [
         "8",
         "83",
         "16",
         "23",
         "0",
         "2",
         "69",
         "0",
         "0",
         "0"
        ],
        [
         "9",
         "83",
         "13",
         "17",
         "1",
         "3",
         "66",
         "0",
         "0",
         "0"
        ],
        [
         "10",
         "83",
         "0",
         "16",
         "1",
         "3",
         "48",
         "17",
         "1",
         "0"
        ],
        [
         "11",
         "83",
         "8",
         "13",
         "1",
         "3",
         "62",
         "0",
         "0",
         "0"
        ],
        [
         "12",
         "83",
         "11",
         "14",
         "0",
         "3",
         "55",
         "0",
         "0",
         "0"
        ],
        [
         "13",
         "83",
         "18",
         "20",
         "0",
         "3",
         "61",
         "0",
         "0",
         "0"
        ],
        [
         "14",
         "83",
         "10",
         "12",
         "0",
         "2",
         "66",
         "0",
         "0",
         "0"
        ],
        [
         "15",
         "83",
         "5",
         "13",
         "0",
         "2",
         "37",
         "28",
         "1",
         "0"
        ],
        [
         "16",
         "83",
         "10",
         "14",
         "0",
         "2",
         "66",
         "0",
         "0",
         "0"
        ],
        [
         "17",
         "83",
         "10",
         "15",
         "0",
         "2",
         "66",
         "0",
         "0",
         "0"
        ],
        [
         "18",
         "83",
         "5",
         "13",
         "0",
         "2",
         "37",
         "28",
         "1",
         "0"
        ],
        [
         "19",
         "83",
         "5",
         "13",
         "0",
         "2",
         "37",
         "28",
         "1",
         "0"
        ],
        [
         "20",
         "83",
         "12",
         "15",
         "0",
         "2",
         "66",
         "0",
         "0",
         "0"
        ],
        [
         "21",
         "83",
         "12",
         "13",
         "0",
         "2",
         "66",
         "0",
         "0",
         "0"
        ],
        [
         "22",
         "83",
         "10",
         "13",
         "0",
         "2",
         "66",
         "0",
         "0",
         "0"
        ],
        [
         "23",
         "83",
         "5",
         "13",
         "0",
         "3",
         "29",
         "32",
         "2",
         "0"
        ],
        [
         "24",
         "83",
         "1",
         "15",
         "0",
         "3",
         "43",
         "18",
         "1",
         "0"
        ],
        [
         "25",
         "83",
         "5",
         "14",
         "0",
         "3",
         "37",
         "24",
         "2",
         "0"
        ],
        [
         "26",
         "83",
         "8",
         "13",
         "0",
         "3",
         "33",
         "28",
         "2",
         "0"
        ],
        [
         "27",
         "83",
         "1",
         "14",
         "0",
         "3",
         "43",
         "18",
         "1",
         "0"
        ],
        [
         "28",
         "83",
         "1",
         "15",
         "0",
         "3",
         "45",
         "16",
         "1",
         "0"
        ],
        [
         "29",
         "83",
         "8",
         "13",
         "0",
         "3",
         "33",
         "28",
         "2",
         "0"
        ],
        [
         "30",
         "83",
         "5",
         "14",
         "0",
         "3",
         "45",
         "16",
         "1",
         "0"
        ],
        [
         "31",
         "83",
         "6",
         "14",
         "0",
         "3",
         "45",
         "16",
         "1",
         "0"
        ],
        [
         "32",
         "83",
         "5",
         "13",
         "0",
         "3",
         "38",
         "23",
         "1",
         "0"
        ],
        [
         "33",
         "83",
         "10",
         "17",
         "0",
         "3",
         "63",
         "0",
         "0",
         "0"
        ],
        [
         "34",
         "83",
         "4",
         "18",
         "0",
         "3",
         "70",
         "0",
         "0",
         "0"
        ],
        [
         "35",
         "83",
         "4",
         "16",
         "0",
         "3",
         "70",
         "0",
         "0",
         "0"
        ],
        [
         "36",
         "83",
         "4",
         "17",
         "0",
         "3",
         "70",
         "0",
         "0",
         "0"
        ],
        [
         "37",
         "83",
         "4",
         "17",
         "0",
         "3",
         "70",
         "0",
         "0",
         "0"
        ],
        [
         "38",
         "83",
         "4",
         "18",
         "0",
         "3",
         "70",
         "0",
         "0",
         "0"
        ],
        [
         "39",
         "83",
         "4",
         "17",
         "0",
         "3",
         "70",
         "0",
         "0",
         "0"
        ],
        [
         "40",
         "83",
         "4",
         "17",
         "0",
         "3",
         "70",
         "0",
         "0",
         "0"
        ],
        [
         "41",
         "83",
         "4",
         "17",
         "0",
         "3",
         "70",
         "0",
         "0",
         "0"
        ],
        [
         "42",
         "83",
         "4",
         "18",
         "0",
         "3",
         "70",
         "0",
         "0",
         "0"
        ],
        [
         "43",
         "83",
         "8",
         "15",
         "0",
         "3",
         "70",
         "0",
         "0",
         "0"
        ],
        [
         "44",
         "83",
         "4",
         "15",
         "0",
         "3",
         "70",
         "0",
         "0",
         "0"
        ],
        [
         "45",
         "83",
         "10",
         "13",
         "0",
         "3",
         "57",
         "0",
         "0",
         "0"
        ],
        [
         "46",
         "83",
         "6",
         "14",
         "0",
         "3",
         "63",
         "0",
         "0",
         "0"
        ],
        [
         "47",
         "83",
         "13",
         "15",
         "0",
         "3",
         "63",
         "0",
         "0",
         "0"
        ],
        [
         "48",
         "83",
         "14",
         "15",
         "0",
         "3",
         "63",
         "0",
         "0",
         "0"
        ],
        [
         "49",
         "83",
         "6",
         "14",
         "0",
         "3",
         "63",
         "0",
         "0",
         "0"
        ]
       ],
       "shape": {
        "columns": 9,
        "rows": 2140400
       }
      },
      "text/html": [
       "<div>\n",
       "<style scoped>\n",
       "    .dataframe tbody tr th:only-of-type {\n",
       "        vertical-align: middle;\n",
       "    }\n",
       "\n",
       "    .dataframe tbody tr th {\n",
       "        vertical-align: top;\n",
       "    }\n",
       "\n",
       "    .dataframe thead th {\n",
       "        text-align: right;\n",
       "    }\n",
       "</style>\n",
       "<table border=\"1\" class=\"dataframe\">\n",
       "  <thead>\n",
       "    <tr style=\"text-align: right;\">\n",
       "      <th></th>\n",
       "      <th>url_length</th>\n",
       "      <th>num_digits</th>\n",
       "      <th>num_special_chars</th>\n",
       "      <th>num_subdomains</th>\n",
       "      <th>tld_length</th>\n",
       "      <th>path_length</th>\n",
       "      <th>query_length</th>\n",
       "      <th>num_query_params</th>\n",
       "      <th>type_encoded</th>\n",
       "    </tr>\n",
       "  </thead>\n",
       "  <tbody>\n",
       "    <tr>\n",
       "      <th>0</th>\n",
       "      <td>83</td>\n",
       "      <td>18</td>\n",
       "      <td>16</td>\n",
       "      <td>0</td>\n",
       "      <td>2</td>\n",
       "      <td>68</td>\n",
       "      <td>0</td>\n",
       "      <td>0</td>\n",
       "      <td>0</td>\n",
       "    </tr>\n",
       "    <tr>\n",
       "      <th>1</th>\n",
       "      <td>83</td>\n",
       "      <td>23</td>\n",
       "      <td>17</td>\n",
       "      <td>0</td>\n",
       "      <td>2</td>\n",
       "      <td>68</td>\n",
       "      <td>0</td>\n",
       "      <td>0</td>\n",
       "      <td>0</td>\n",
       "    </tr>\n",
       "    <tr>\n",
       "      <th>2</th>\n",
       "      <td>83</td>\n",
       "      <td>22</td>\n",
       "      <td>17</td>\n",
       "      <td>0</td>\n",
       "      <td>2</td>\n",
       "      <td>68</td>\n",
       "      <td>0</td>\n",
       "      <td>0</td>\n",
       "      <td>0</td>\n",
       "    </tr>\n",
       "    <tr>\n",
       "      <th>3</th>\n",
       "      <td>83</td>\n",
       "      <td>18</td>\n",
       "      <td>19</td>\n",
       "      <td>0</td>\n",
       "      <td>2</td>\n",
       "      <td>68</td>\n",
       "      <td>0</td>\n",
       "      <td>0</td>\n",
       "      <td>0</td>\n",
       "    </tr>\n",
       "    <tr>\n",
       "      <th>4</th>\n",
       "      <td>83</td>\n",
       "      <td>18</td>\n",
       "      <td>17</td>\n",
       "      <td>0</td>\n",
       "      <td>2</td>\n",
       "      <td>68</td>\n",
       "      <td>0</td>\n",
       "      <td>0</td>\n",
       "      <td>0</td>\n",
       "    </tr>\n",
       "    <tr>\n",
       "      <th>...</th>\n",
       "      <td>...</td>\n",
       "      <td>...</td>\n",
       "      <td>...</td>\n",
       "      <td>...</td>\n",
       "      <td>...</td>\n",
       "      <td>...</td>\n",
       "      <td>...</td>\n",
       "      <td>...</td>\n",
       "      <td>...</td>\n",
       "    </tr>\n",
       "    <tr>\n",
       "      <th>2140395</th>\n",
       "      <td>59</td>\n",
       "      <td>13</td>\n",
       "      <td>11</td>\n",
       "      <td>2</td>\n",
       "      <td>5</td>\n",
       "      <td>22</td>\n",
       "      <td>0</td>\n",
       "      <td>0</td>\n",
       "      <td>4</td>\n",
       "    </tr>\n",
       "    <tr>\n",
       "      <th>2140396</th>\n",
       "      <td>52</td>\n",
       "      <td>12</td>\n",
       "      <td>11</td>\n",
       "      <td>2</td>\n",
       "      <td>5</td>\n",
       "      <td>21</td>\n",
       "      <td>0</td>\n",
       "      <td>0</td>\n",
       "      <td>4</td>\n",
       "    </tr>\n",
       "    <tr>\n",
       "      <th>2140397</th>\n",
       "      <td>81</td>\n",
       "      <td>27</td>\n",
       "      <td>12</td>\n",
       "      <td>2</td>\n",
       "      <td>5</td>\n",
       "      <td>55</td>\n",
       "      <td>0</td>\n",
       "      <td>0</td>\n",
       "      <td>4</td>\n",
       "    </tr>\n",
       "    <tr>\n",
       "      <th>2140398</th>\n",
       "      <td>108</td>\n",
       "      <td>25</td>\n",
       "      <td>16</td>\n",
       "      <td>1</td>\n",
       "      <td>5</td>\n",
       "      <td>27</td>\n",
       "      <td>53</td>\n",
       "      <td>3</td>\n",
       "      <td>4</td>\n",
       "    </tr>\n",
       "    <tr>\n",
       "      <th>2140399</th>\n",
       "      <td>60</td>\n",
       "      <td>13</td>\n",
       "      <td>11</td>\n",
       "      <td>2</td>\n",
       "      <td>5</td>\n",
       "      <td>22</td>\n",
       "      <td>0</td>\n",
       "      <td>0</td>\n",
       "      <td>4</td>\n",
       "    </tr>\n",
       "  </tbody>\n",
       "</table>\n",
       "<p>2140400 rows × 9 columns</p>\n",
       "</div>"
      ],
      "text/plain": [
       "         url_length  num_digits  num_special_chars  num_subdomains  \\\n",
       "0                83          18                 16               0   \n",
       "1                83          23                 17               0   \n",
       "2                83          22                 17               0   \n",
       "3                83          18                 19               0   \n",
       "4                83          18                 17               0   \n",
       "...             ...         ...                ...             ...   \n",
       "2140395          59          13                 11               2   \n",
       "2140396          52          12                 11               2   \n",
       "2140397          81          27                 12               2   \n",
       "2140398         108          25                 16               1   \n",
       "2140399          60          13                 11               2   \n",
       "\n",
       "         tld_length  path_length  query_length  num_query_params  type_encoded  \n",
       "0                 2           68             0                 0             0  \n",
       "1                 2           68             0                 0             0  \n",
       "2                 2           68             0                 0             0  \n",
       "3                 2           68             0                 0             0  \n",
       "4                 2           68             0                 0             0  \n",
       "...             ...          ...           ...               ...           ...  \n",
       "2140395           5           22             0                 0             4  \n",
       "2140396           5           21             0                 0             4  \n",
       "2140397           5           55             0                 0             4  \n",
       "2140398           5           27            53                 3             4  \n",
       "2140399           5           22             0                 0             4  \n",
       "\n",
       "[2140400 rows x 9 columns]"
      ]
     },
     "execution_count": 42,
     "metadata": {},
     "output_type": "execute_result"
    }
   ],
   "source": [
    "df_balanced"
   ]
  },
  {
   "cell_type": "markdown",
   "metadata": {},
   "source": [
    "## EDA - Exploratory Data Analysis"
   ]
  },
  {
   "cell_type": "code",
   "execution_count": 44,
   "metadata": {},
   "outputs": [],
   "source": [
    "import seaborn as sns\n",
    "import matplotlib.pyplot as plt\n",
    "\n",
    "sns.set(style=\"whitegrid\")"
   ]
  },
  {
   "cell_type": "code",
   "execution_count": 45,
   "metadata": {},
   "outputs": [
    {
     "data": {
      "image/png": "[encoded data removed]",
      "text/plain": [
       "<Figure size 1000x600 with 1 Axes>"
      ]
     },
     "metadata": {},
     "output_type": "display_data"
    }
   ],
   "source": [
    "plt.figure(figsize=(10, 6))\n",
    "sns.histplot(df_balanced['url_length'], bins=50, kde=True, color='blue')\n",
    "plt.title(\"Distribution of URL Lengths\")\n",
    "plt.xlabel(\"URL Length\")\n",
    "plt.ylabel(\"Frequency\")\n",
    "plt.show()"
   ]
  },
  {
   "cell_type": "code",
   "execution_count": 46,
   "metadata": {},
   "outputs": [
    {
     "data": {
      "image/png": "[encoded data removed]",
      "text/plain": [
       "<Figure size 1000x600 with 2 Axes>"
      ]
     },
     "metadata": {},
     "output_type": "display_data"
    }
   ],
   "source": [
    "plt.figure(figsize=(10, 6))\n",
    "corr = df_balanced.corr()\n",
    "sns.heatmap(corr, annot=True, cmap='coolwarm', fmt=\".2f\", linewidths=0.5)\n",
    "plt.title(\"Feature Correlation Heatmap\")\n",
    "plt.show()"
   ]
  },
  {
   "cell_type": "code",
   "execution_count": 47,
   "metadata": {},
   "outputs": [
    {
     "data": {
      "image/png": "[encoded data removed]",
      "text/plain": [
       "<Figure size 1200x600 with 1 Axes>"
      ]
     },
     "metadata": {},
     "output_type": "display_data"
    }
   ],
   "source": [
    "plt.figure(figsize=(12, 6))\n",
    "sns.boxplot(x=df_balanced['type_encoded'], y=df_balanced['url_length'])\n",
    "plt.title(\"URL Length Distribution by Category\")\n",
    "plt.xlabel(\"Malicious Type\")\n",
    "plt.ylabel(\"URL Length\")\n",
    "plt.show()"
   ]
  },
  {
   "cell_type": "code",
   "execution_count": 48,
   "metadata": {},
   "outputs": [
    {
     "name": "stderr",
     "output_type": "stream",
     "text": [
      "/tmp/ipykernel_2908/766716899.py:2: FutureWarning: \n",
      "\n",
      "Passing `palette` without assigning `hue` is deprecated and will be removed in v0.14.0. Assign the `x` variable to `hue` and set `legend=False` for the same effect.\n",
      "\n",
      "  sns.countplot(x=df_balanced['tld_length'], palette='Set2')\n"
     ]
    },
    {
     "data": {
      "image/png": "[encoded data removed]",
      "text/plain": [
       "<Figure size 1000x600 with 1 Axes>"
      ]
     },
     "metadata": {},
     "output_type": "display_data"
    }
   ],
   "source": [
    "plt.figure(figsize=(10, 6))\n",
    "sns.countplot(x=df_balanced['tld_length'], palette='Set2')\n",
    "plt.title(\"Distribution of TLD Lengths\")\n",
    "plt.xlabel(\"TLD Length\")\n",
    "plt.ylabel(\"Count\")\n",
    "plt.show()"
   ]
  },
  {
   "cell_type": "code",
   "execution_count": 49,
   "metadata": {},
   "outputs": [
    {
     "name": "stderr",
     "output_type": "stream",
     "text": [
      "/home/neutrino/miniconda3/lib/python3.12/site-packages/IPython/core/pylabtools.py:170: UserWarning: Creating legend with loc=\"best\" can be slow with large amounts of data.\n",
      "  fig.canvas.print_figure(bytes_io, **kw)\n"
     ]
    },
    {
     "data": {
      "image/png": "[encoded data removed]",
      "text/plain": [
       "<Figure size 1000x600 with 1 Axes>"
      ]
     },
     "metadata": {},
     "output_type": "display_data"
    }
   ],
   "source": [
    "plt.figure(figsize=(10, 6))\n",
    "sns.scatterplot(x=df_balanced['num_special_chars'], y=df_balanced['num_digits'], hue=df_balanced['type_encoded'], palette='deep')\n",
    "plt.title(\"Special Characters vs. Digits in URLs\")\n",
    "plt.xlabel(\"Number of Special Characters\")\n",
    "plt.ylabel(\"Number of Digits\")\n",
    "plt.show()"
   ]
  },
  {
   "cell_type": "code",
   "execution_count": 56,
   "metadata": {},
   "outputs": [
    {
     "data": {
      "image/png": "[encoded data removed]",
      "text/plain": [
       "<Figure size 1000x600 with 1 Axes>"
      ]
     },
     "metadata": {},
     "output_type": "display_data"
    }
   ],
   "source": [
    "plt.figure(figsize=(10, 6))\n",
    "sns.histplot(df_balanced['path_length'], bins=50, kde=True, color='green')\n",
    "plt.title(\"Distribution of Path Lengths\")\n",
    "plt.xlabel(\"Path Length\")\n",
    "plt.ylabel(\"Frequency\")\n",
    "plt.show()"
   ]
  },
  {
   "cell_type": "code",
   "execution_count": 57,
   "metadata": {},
   "outputs": [
    {
     "name": "stdout",
     "output_type": "stream",
     "text": [
      "Balanced dataset saved to balanced_dataset.csv\n",
      "Preprocessed dataset saved to preprocessed_dataset.csv\n"
     ]
    }
   ],
   "source": [
    "df_balanced.to_csv(\"balanced_dataset.csv\", index=False)\n",
    "print(\"Balanced dataset saved to balanced_dataset.csv\")\n",
    "\n",
    "df.to_csv(\"preprocessed_dataset.csv\", index=False)\n",
    "print(\"Preprocessed dataset saved to preprocessed_dataset.csv\")"
   ]
  },
  {
   "cell_type": "markdown",
   "metadata": {},
   "source": [
    "## Model Training "
   ]
  },
  {
   "cell_type": "code",
   "execution_count": 2,
   "metadata": {},
   "outputs": [],
   "source": [
    "import pandas as pd\n",
    "from sklearn.svm import SVC\n",
    "from xgboost import XGBClassifier\n",
    "from sklearn.ensemble import RandomForestClassifier\n",
    "from sklearn.model_selection import train_test_split\n",
    "from sklearn.metrics import classification_report, confusion_matrix, roc_curve, auc"
   ]
  },
  {
   "cell_type": "code",
   "execution_count": 3,
   "metadata": {},
   "outputs": [],
   "source": [
    "NUM_TO_TYPE = {\n",
    "    0: 'benign',\n",
    "    1: 'defacement',\n",
    "    2: 'malware',\n",
    "    3: 'phishing',\n",
    "    4: 'spam'\n",
    "}"
   ]
  },
  {
   "cell_type": "code",
   "execution_count": 4,
   "metadata": {},
   "outputs": [
    {
     "data": {
      "application/vnd.microsoft.datawrangler.viewer.v0+json": {
       "columns": [
        {
         "name": "index",
         "rawType": "int64",
         "type": "integer"
        },
        {
         "name": "url_length",
         "rawType": "int64",
         "type": "integer"
        },
        {
         "name": "num_digits",
         "rawType": "int64",
         "type": "integer"
        },
        {
         "name": "num_special_chars",
         "rawType": "int64",
         "type": "integer"
        },
        {
         "name": "num_subdomains",
         "rawType": "int64",
         "type": "integer"
        },
        {
         "name": "tld_length",
         "rawType": "int64",
         "type": "integer"
        },
        {
         "name": "path_length",
         "rawType": "int64",
         "type": "integer"
        },
        {
         "name": "query_length",
         "rawType": "int64",
         "type": "integer"
        },
        {
         "name": "num_query_params",
         "rawType": "int64",
         "type": "integer"
        },
        {
         "name": "type_encoded",
         "rawType": "int64",
         "type": "integer"
        }
       ],
       "conversionMethod": "pd.DataFrame",
       "ref": "e41c22a5-5ad0-4d3c-a2ec-cbc2ee01c878",
       "rows": [
        [
         "0",
         "83",
         "18",
         "16",
         "0",
         "2",
         "68",
         "0",
         "0",
         "0"
        ],
        [
         "1",
         "83",
         "23",
         "17",
         "0",
         "2",
         "68",
         "0",
         "0",
         "0"
        ],
        [
         "2",
         "83",
         "22",
         "17",
         "0",
         "2",
         "68",
         "0",
         "0",
         "0"
        ],
        [
         "3",
         "83",
         "18",
         "19",
         "0",
         "2",
         "68",
         "0",
         "0",
         "0"
        ],
        [
         "4",
         "83",
         "18",
         "17",
         "0",
         "2",
         "68",
         "0",
         "0",
         "0"
        ],
        [
         "5",
         "83",
         "20",
         "17",
         "0",
         "2",
         "68",
         "0",
         "0",
         "0"
        ],
        [
         "6",
         "83",
         "15",
         "16",
         "0",
         "2",
         "68",
         "0",
         "0",
         "0"
        ],
        [
         "7",
         "83",
         "3",
         "13",
         "0",
         "2",
         "35",
         "34",
         "2",
         "0"
        ],
        [
         "8",
         "83",
         "16",
         "23",
         "0",
         "2",
         "69",
         "0",
         "0",
         "0"
        ],
        [
         "9",
         "83",
         "13",
         "17",
         "1",
         "3",
         "66",
         "0",
         "0",
         "0"
        ],
        [
         "10",
         "83",
         "0",
         "16",
         "1",
         "3",
         "48",
         "17",
         "1",
         "0"
        ],
        [
         "11",
         "83",
         "8",
         "13",
         "1",
         "3",
         "62",
         "0",
         "0",
         "0"
        ],
        [
         "12",
         "83",
         "11",
         "14",
         "0",
         "3",
         "55",
         "0",
         "0",
         "0"
        ],
        [
         "13",
         "83",
         "18",
         "20",
         "0",
         "3",
         "61",
         "0",
         "0",
         "0"
        ],
        [
         "14",
         "83",
         "10",
         "12",
         "0",
         "2",
         "66",
         "0",
         "0",
         "0"
        ],
        [
         "15",
         "83",
         "5",
         "13",
         "0",
         "2",
         "37",
         "28",
         "1",
         "0"
        ],
        [
         "16",
         "83",
         "10",
         "14",
         "0",
         "2",
         "66",
         "0",
         "0",
         "0"
        ],
        [
         "17",
         "83",
         "10",
         "15",
         "0",
         "2",
         "66",
         "0",
         "0",
         "0"
        ],
        [
         "18",
         "83",
         "5",
         "13",
         "0",
         "2",
         "37",
         "28",
         "1",
         "0"
        ],
        [
         "19",
         "83",
         "5",
         "13",
         "0",
         "2",
         "37",
         "28",
         "1",
         "0"
        ],
        [
         "20",
         "83",
         "12",
         "15",
         "0",
         "2",
         "66",
         "0",
         "0",
         "0"
        ],
        [
         "21",
         "83",
         "12",
         "13",
         "0",
         "2",
         "66",
         "0",
         "0",
         "0"
        ],
        [
         "22",
         "83",
         "10",
         "13",
         "0",
         "2",
         "66",
         "0",
         "0",
         "0"
        ],
        [
         "23",
         "83",
         "5",
         "13",
         "0",
         "3",
         "29",
         "32",
         "2",
         "0"
        ],
        [
         "24",
         "83",
         "1",
         "15",
         "0",
         "3",
         "43",
         "18",
         "1",
         "0"
        ],
        [
         "25",
         "83",
         "5",
         "14",
         "0",
         "3",
         "37",
         "24",
         "2",
         "0"
        ],
        [
         "26",
         "83",
         "8",
         "13",
         "0",
         "3",
         "33",
         "28",
         "2",
         "0"
        ],
        [
         "27",
         "83",
         "1",
         "14",
         "0",
         "3",
         "43",
         "18",
         "1",
         "0"
        ],
        [
         "28",
         "83",
         "1",
         "15",
         "0",
         "3",
         "45",
         "16",
         "1",
         "0"
        ],
        [
         "29",
         "83",
         "8",
         "13",
         "0",
         "3",
         "33",
         "28",
         "2",
         "0"
        ],
        [
         "30",
         "83",
         "5",
         "14",
         "0",
         "3",
         "45",
         "16",
         "1",
         "0"
        ],
        [
         "31",
         "83",
         "6",
         "14",
         "0",
         "3",
         "45",
         "16",
         "1",
         "0"
        ],
        [
         "32",
         "83",
         "5",
         "13",
         "0",
         "3",
         "38",
         "23",
         "1",
         "0"
        ],
        [
         "33",
         "83",
         "10",
         "17",
         "0",
         "3",
         "63",
         "0",
         "0",
         "0"
        ],
        [
         "34",
         "83",
         "4",
         "18",
         "0",
         "3",
         "70",
         "0",
         "0",
         "0"
        ],
        [
         "35",
         "83",
         "4",
         "16",
         "0",
         "3",
         "70",
         "0",
         "0",
         "0"
        ],
        [
         "36",
         "83",
         "4",
         "17",
         "0",
         "3",
         "70",
         "0",
         "0",
         "0"
        ],
        [
         "37",
         "83",
         "4",
         "17",
         "0",
         "3",
         "70",
         "0",
         "0",
         "0"
        ],
        [
         "38",
         "83",
         "4",
         "18",
         "0",
         "3",
         "70",
         "0",
         "0",
         "0"
        ],
        [
         "39",
         "83",
         "4",
         "17",
         "0",
         "3",
         "70",
         "0",
         "0",
         "0"
        ],
        [
         "40",
         "83",
         "4",
         "17",
         "0",
         "3",
         "70",
         "0",
         "0",
         "0"
        ],
        [
         "41",
         "83",
         "4",
         "17",
         "0",
         "3",
         "70",
         "0",
         "0",
         "0"
        ],
        [
         "42",
         "83",
         "4",
         "18",
         "0",
         "3",
         "70",
         "0",
         "0",
         "0"
        ],
        [
         "43",
         "83",
         "8",
         "15",
         "0",
         "3",
         "70",
         "0",
         "0",
         "0"
        ],
        [
         "44",
         "83",
         "4",
         "15",
         "0",
         "3",
         "70",
         "0",
         "0",
         "0"
        ],
        [
         "45",
         "83",
         "10",
         "13",
         "0",
         "3",
         "57",
         "0",
         "0",
         "0"
        ],
        [
         "46",
         "83",
         "6",
         "14",
         "0",
         "3",
         "63",
         "0",
         "0",
         "0"
        ],
        [
         "47",
         "83",
         "13",
         "15",
         "0",
         "3",
         "63",
         "0",
         "0",
         "0"
        ],
        [
         "48",
         "83",
         "14",
         "15",
         "0",
         "3",
         "63",
         "0",
         "0",
         "0"
        ],
        [
         "49",
         "83",
         "6",
         "14",
         "0",
         "3",
         "63",
         "0",
         "0",
         "0"
        ]
       ],
       "shape": {
        "columns": 9,
        "rows": 2140400
       }
      },
      "text/html": [
       "<div>\n",
       "<style scoped>\n",
       "    .dataframe tbody tr th:only-of-type {\n",
       "        vertical-align: middle;\n",
       "    }\n",
       "\n",
       "    .dataframe tbody tr th {\n",
       "        vertical-align: top;\n",
       "    }\n",
       "\n",
       "    .dataframe thead th {\n",
       "        text-align: right;\n",
       "    }\n",
       "</style>\n",
       "<table border=\"1\" class=\"dataframe\">\n",
       "  <thead>\n",
       "    <tr style=\"text-align: right;\">\n",
       "      <th></th>\n",
       "      <th>url_length</th>\n",
       "      <th>num_digits</th>\n",
       "      <th>num_special_chars</th>\n",
       "      <th>num_subdomains</th>\n",
       "      <th>tld_length</th>\n",
       "      <th>path_length</th>\n",
       "      <th>query_length</th>\n",
       "      <th>num_query_params</th>\n",
       "      <th>type_encoded</th>\n",
       "    </tr>\n",
       "  </thead>\n",
       "  <tbody>\n",
       "    <tr>\n",
       "      <th>0</th>\n",
       "      <td>83</td>\n",
       "      <td>18</td>\n",
       "      <td>16</td>\n",
       "      <td>0</td>\n",
       "      <td>2</td>\n",
       "      <td>68</td>\n",
       "      <td>0</td>\n",
       "      <td>0</td>\n",
       "      <td>0</td>\n",
       "    </tr>\n",
       "    <tr>\n",
       "      <th>1</th>\n",
       "      <td>83</td>\n",
       "      <td>23</td>\n",
       "      <td>17</td>\n",
       "      <td>0</td>\n",
       "      <td>2</td>\n",
       "      <td>68</td>\n",
       "      <td>0</td>\n",
       "      <td>0</td>\n",
       "      <td>0</td>\n",
       "    </tr>\n",
       "    <tr>\n",
       "      <th>2</th>\n",
       "      <td>83</td>\n",
       "      <td>22</td>\n",
       "      <td>17</td>\n",
       "      <td>0</td>\n",
       "      <td>2</td>\n",
       "      <td>68</td>\n",
       "      <td>0</td>\n",
       "      <td>0</td>\n",
       "      <td>0</td>\n",
       "    </tr>\n",
       "    <tr>\n",
       "      <th>3</th>\n",
       "      <td>83</td>\n",
       "      <td>18</td>\n",
       "      <td>19</td>\n",
       "      <td>0</td>\n",
       "      <td>2</td>\n",
       "      <td>68</td>\n",
       "      <td>0</td>\n",
       "      <td>0</td>\n",
       "      <td>0</td>\n",
       "    </tr>\n",
       "    <tr>\n",
       "      <th>4</th>\n",
       "      <td>83</td>\n",
       "      <td>18</td>\n",
       "      <td>17</td>\n",
       "      <td>0</td>\n",
       "      <td>2</td>\n",
       "      <td>68</td>\n",
       "      <td>0</td>\n",
       "      <td>0</td>\n",
       "      <td>0</td>\n",
       "    </tr>\n",
       "    <tr>\n",
       "      <th>...</th>\n",
       "      <td>...</td>\n",
       "      <td>...</td>\n",
       "      <td>...</td>\n",
       "      <td>...</td>\n",
       "      <td>...</td>\n",
       "      <td>...</td>\n",
       "      <td>...</td>\n",
       "      <td>...</td>\n",
       "      <td>...</td>\n",
       "    </tr>\n",
       "    <tr>\n",
       "      <th>2140395</th>\n",
       "      <td>59</td>\n",
       "      <td>13</td>\n",
       "      <td>11</td>\n",
       "      <td>2</td>\n",
       "      <td>5</td>\n",
       "      <td>22</td>\n",
       "      <td>0</td>\n",
       "      <td>0</td>\n",
       "      <td>4</td>\n",
       "    </tr>\n",
       "    <tr>\n",
       "      <th>2140396</th>\n",
       "      <td>52</td>\n",
       "      <td>12</td>\n",
       "      <td>11</td>\n",
       "      <td>2</td>\n",
       "      <td>5</td>\n",
       "      <td>21</td>\n",
       "      <td>0</td>\n",
       "      <td>0</td>\n",
       "      <td>4</td>\n",
       "    </tr>\n",
       "    <tr>\n",
       "      <th>2140397</th>\n",
       "      <td>81</td>\n",
       "      <td>27</td>\n",
       "      <td>12</td>\n",
       "      <td>2</td>\n",
       "      <td>5</td>\n",
       "      <td>55</td>\n",
       "      <td>0</td>\n",
       "      <td>0</td>\n",
       "      <td>4</td>\n",
       "    </tr>\n",
       "    <tr>\n",
       "      <th>2140398</th>\n",
       "      <td>108</td>\n",
       "      <td>25</td>\n",
       "      <td>16</td>\n",
       "      <td>1</td>\n",
       "      <td>5</td>\n",
       "      <td>27</td>\n",
       "      <td>53</td>\n",
       "      <td>3</td>\n",
       "      <td>4</td>\n",
       "    </tr>\n",
       "    <tr>\n",
       "      <th>2140399</th>\n",
       "      <td>60</td>\n",
       "      <td>13</td>\n",
       "      <td>11</td>\n",
       "      <td>2</td>\n",
       "      <td>5</td>\n",
       "      <td>22</td>\n",
       "      <td>0</td>\n",
       "      <td>0</td>\n",
       "      <td>4</td>\n",
       "    </tr>\n",
       "  </tbody>\n",
       "</table>\n",
       "<p>2140400 rows × 9 columns</p>\n",
       "</div>"
      ],
      "text/plain": [
       "         url_length  num_digits  num_special_chars  num_subdomains  \\\n",
       "0                83          18                 16               0   \n",
       "1                83          23                 17               0   \n",
       "2                83          22                 17               0   \n",
       "3                83          18                 19               0   \n",
       "4                83          18                 17               0   \n",
       "...             ...         ...                ...             ...   \n",
       "2140395          59          13                 11               2   \n",
       "2140396          52          12                 11               2   \n",
       "2140397          81          27                 12               2   \n",
       "2140398         108          25                 16               1   \n",
       "2140399          60          13                 11               2   \n",
       "\n",
       "         tld_length  path_length  query_length  num_query_params  type_encoded  \n",
       "0                 2           68             0                 0             0  \n",
       "1                 2           68             0                 0             0  \n",
       "2                 2           68             0                 0             0  \n",
       "3                 2           68             0                 0             0  \n",
       "4                 2           68             0                 0             0  \n",
       "...             ...          ...           ...               ...           ...  \n",
       "2140395           5           22             0                 0             4  \n",
       "2140396           5           21             0                 0             4  \n",
       "2140397           5           55             0                 0             4  \n",
       "2140398           5           27            53                 3             4  \n",
       "2140399           5           22             0                 0             4  \n",
       "\n",
       "[2140400 rows x 9 columns]"
      ]
     },
     "execution_count": 4,
     "metadata": {},
     "output_type": "execute_result"
    }
   ],
   "source": [
    "df = pd.read_csv(\"balanced_dataset.csv\")\n",
    "df"
   ]
  },
  {
   "cell_type": "code",
   "execution_count": 5,
   "metadata": {},
   "outputs": [
    {
     "data": {
      "text/plain": [
       "type_encoded\n",
       "0    428080\n",
       "1    428080\n",
       "2    428080\n",
       "3    428080\n",
       "4    428080\n",
       "Name: count, dtype: int64"
      ]
     },
     "execution_count": 5,
     "metadata": {},
     "output_type": "execute_result"
    }
   ],
   "source": [
    "df.type_encoded.value_counts()"
   ]
  },
  {
   "cell_type": "code",
   "execution_count": 6,
   "metadata": {},
   "outputs": [],
   "source": [
    "X = df.drop('type_encoded', axis=1)\n",
    "y = df['type_encoded']\n",
    "\n",
    "X_train, X_test, y_train, y_test = train_test_split(X, y, test_size=0.2, random_state=42)"
   ]
  },
  {
   "cell_type": "code",
   "execution_count": 7,
   "metadata": {},
   "outputs": [
    {
     "data": {
      "text/plain": [
       "((1712320, 8), (428080, 8))"
      ]
     },
     "execution_count": 7,
     "metadata": {},
     "output_type": "execute_result"
    }
   ],
   "source": [
    "X_train.shape, X_test.shape"
   ]
  },
  {
   "cell_type": "markdown",
   "metadata": {},
   "source": [
    "### Random Forest"
   ]
  },
  {
   "cell_type": "code",
   "execution_count": 8,
   "metadata": {},
   "outputs": [
    {
     "name": "stdout",
     "output_type": "stream",
     "text": [
      "              precision    recall  f1-score   support\n",
      "\n",
      "           0       0.81      0.84      0.83     85547\n",
      "           1       0.97      0.98      0.97     85537\n",
      "           2       0.98      0.95      0.97     85711\n",
      "           3       0.80      0.77      0.79     86004\n",
      "           4       1.00      1.00      1.00     85281\n",
      "\n",
      "    accuracy                           0.91    428080\n",
      "   macro avg       0.91      0.91      0.91    428080\n",
      "weighted avg       0.91      0.91      0.91    428080\n",
      "\n"
     ]
    }
   ],
   "source": [
    "rf = RandomForestClassifier(n_estimators=100, random_state=42)\n",
    "rf.fit(X_train, y_train)\n",
    "\n",
    "y_pred = rf.predict(X_test)\n",
    "\n",
    "print(classification_report(y_test, y_pred))"
   ]
  },
  {
   "cell_type": "code",
   "execution_count": 9,
   "metadata": {},
   "outputs": [
    {
     "data": {
      "text/plain": [
       "array([[72163,   141,   183, 13058,     2],\n",
       "       [   99, 83753,   493,  1066,   126],\n",
       "       [  672,   493, 81536,  2984,    26],\n",
       "       [16081,  2275,   911, 66642,    95],\n",
       "       [    5,    72,     4,    21, 85179]])"
      ]
     },
     "execution_count": 9,
     "metadata": {},
     "output_type": "execute_result"
    }
   ],
   "source": [
    "cm = confusion_matrix(y_test, y_pred)\n",
    "cm"
   ]
  },
  {
   "cell_type": "markdown",
   "metadata": {},
   "source": [
    "### XGBoost"
   ]
  },
  {
   "cell_type": "code",
   "execution_count": 8,
   "metadata": {},
   "outputs": [
    {
     "name": "stderr",
     "output_type": "stream",
     "text": [
      "/home/neutrino/miniconda3/lib/python3.12/site-packages/xgboost/training.py:183: UserWarning: [20:17:10] WARNING: /workspace/src/learner.cc:738: \n",
      "Parameters: { \"use_label_encoder\" } are not used.\n",
      "\n",
      "  bst.update(dtrain, iteration=i, fobj=obj)\n"
     ]
    },
    {
     "name": "stdout",
     "output_type": "stream",
     "text": [
      "              precision    recall  f1-score   support\n",
      "\n",
      "           0       0.78      0.84      0.81     85547\n",
      "           1       0.89      0.96      0.92     85537\n",
      "           2       0.96      0.90      0.93     85711\n",
      "           3       0.76      0.68      0.72     86004\n",
      "           4       0.99      0.99      0.99     85281\n",
      "\n",
      "    accuracy                           0.87    428080\n",
      "   macro avg       0.87      0.87      0.87    428080\n",
      "weighted avg       0.87      0.87      0.87    428080\n",
      "\n"
     ]
    }
   ],
   "source": [
    "xgb = XGBClassifier(use_label_encoder=False, eval_metric='mlogloss', random_state=42)\n",
    "\n",
    "xgb.fit(X_train, y_train)\n",
    "\n",
    "y_pred = xgb.predict(X_test)\n",
    "\n",
    "print(classification_report(y_test, y_pred))"
   ]
  },
  {
   "cell_type": "code",
   "execution_count": 9,
   "metadata": {},
   "outputs": [
    {
     "data": {
      "text/plain": [
       "array([[72005,   261,   186, 13087,     8],\n",
       "       [  350, 82513,  1041,  1088,   545],\n",
       "       [ 1001,  3296, 77031,  4239,   144],\n",
       "       [19278,  6452,  1593, 58296,   385],\n",
       "       [   14,   695,     9,    21, 84542]])"
      ]
     },
     "execution_count": 9,
     "metadata": {},
     "output_type": "execute_result"
    }
   ],
   "source": [
    "cm = confusion_matrix(y_test, y_pred)\n",
    "cm"
   ]
  },
  {
   "cell_type": "markdown",
   "metadata": {},
   "source": [
    "### DL is used in seperate file "
   ]
  }
 ],
 "metadata": {
  "kernelspec": {
   "display_name": "base",
   "language": "python",
   "name": "python3"
  },
  "language_info": {
   "codemirror_mode": {
    "name": "ipython",
    "version": 3
   },
   "file_extension": ".py",
   "mimetype": "text/x-python",
   "name": "python",
   "nbconvert_exporter": "python",
   "pygments_lexer": "ipython3",
   "version": "3.12.9"
  }
 },
 "nbformat": 4,
 "nbformat_minor": 2
}
